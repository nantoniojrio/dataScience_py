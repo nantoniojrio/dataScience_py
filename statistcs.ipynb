{
 "cells": [
  {
   "cell_type": "code",
   "execution_count": 1,
   "metadata": {
    "collapsed": true
   },
   "outputs": [],
   "source": [
    "import pandas as pd \n",
    "import matplotlib.pyplot as plt\n",
    "import seaborn as sns"
   ]
  },
  {
   "cell_type": "code",
   "execution_count": 2,
   "metadata": {
    "collapsed": true
   },
   "outputs": [],
   "source": [
    "dataValue = pd.read_csv('Arquivo_Valorizacao_Ambiental.csv')"
   ]
  },
  {
   "cell_type": "markdown",
   "metadata": {},
   "source": [
    "## Detection of Outliers"
   ]
  },
  {
   "cell_type": "code",
   "execution_count": 3,
   "metadata": {},
   "outputs": [],
   "source": [
    "def outLiers(dataFrame, listOut, extreme):\n",
    "    q1 = dataFrame.quantile(.25)\n",
    "    q3 = dataFrame.quantile(.75)\n",
    "    iq = q3 - q1\n",
    "    lowExtremePoint = q1 - 3 * iq\n",
    "    lowPoint = q1 - 1.5 * iq\n",
    "    highValue = q3 + 1.5 * iq\n",
    "    highExtremeValue = q3 + 3 * iq\n",
    "    \n",
    "    for item in dataFrame:\n",
    "        if item > highValue and  item < highExtremeValue:\n",
    "            listOut.append(item)\n",
    "        elif(item > highExtremeValue):\n",
    "            extreme.append(item)    \n",
    "    return listOut, extreme\n",
    "\n",
    "\n",
    "def rmOut(dataframe, outList, extreme):\n",
    "    data = []\n",
    "    for i in dataframe:\n",
    "        if i not in (outList and extreme):\n",
    "            data.append(i)\n",
    "    return data\n",
    "        \n",
    "\n",
    "def cleanData(data, dataFrame):\n",
    "    lista = []\n",
    "    for i in dataFrame:\n",
    "        if data[i] == i:\n",
    "            lista.append(i)\n"
   ]
  },
  {
   "cell_type": "code",
   "execution_count": 4,
   "metadata": {
    "scrolled": true
   },
   "outputs": [
    {
     "data": {
      "image/png": "[encoded data removed]",
      "text/plain": [
       "<matplotlib.figure.Figure at 0x2638e8c8a58>"
      ]
     },
     "metadata": {},
     "output_type": "display_data"
    },
    {
     "data": {
      "image/png": "[encoded data removed]",
      "text/plain": [
       "<matplotlib.figure.Figure at 0x2638ee61a20>"
      ]
     },
     "metadata": {},
     "output_type": "display_data"
    }
   ],
   "source": [
    "plt.hist(dataValue['Valor'])\n",
    "plt.title('Histogram Property Value')\n",
    "plt.ylabel('Freq.')\n",
    "plt.xlabel('Value in R$')\n",
    "\n",
    "plt.show()\n",
    "plt.clf()\n",
    "\n",
    "plt.hist(dataValue['Area'])\n",
    "plt.title('Histogram Area')\n",
    "plt.ylabel('Freq.')\n",
    "plt.xlabel('Area in m²')\n",
    "\n",
    "plt.show()\n",
    "plt.clf()"
   ]
  },
  {
   "cell_type": "code",
   "execution_count": 5,
   "metadata": {},
   "outputs": [
    {
     "data": {
      "image/png": "[encoded data removed]",
      "text/plain": [
       "<matplotlib.figure.Figure at 0x2638ee30048>"
      ]
     },
     "metadata": {},
     "output_type": "display_data"
    }
   ],
   "source": [
    "plt.boxplot(dataValue['Valor'])\n",
    "plt.title('Property Value')\n",
    "plt.show()\n",
    "plt.clf()"
   ]
  },
  {
   "cell_type": "code",
   "execution_count": 6,
   "metadata": {},
   "outputs": [
    {
     "name": "stdout",
     "output_type": "stream",
     "text": [
      "Basic Statistcs\n",
      "count        43.000000\n",
      "mean     144618.255814\n",
      "std       72084.680047\n",
      "min       50000.000000\n",
      "25%       95000.000000\n",
      "50%      120000.000000\n",
      "75%      182500.000000\n",
      "max      362400.000000\n",
      "Name: Valor, dtype: float64\n"
     ]
    }
   ],
   "source": [
    "print('Basic Statistcs')\n",
    "print(dataValue['Valor'].describe())"
   ]
  },
  {
   "cell_type": "code",
   "execution_count": 7,
   "metadata": {},
   "outputs": [
    {
     "data": {
      "text/plain": [
       "([325669, 362400], [])"
      ]
     },
     "execution_count": 7,
     "metadata": {},
     "output_type": "execute_result"
    }
   ],
   "source": [
    "outValue = []\n",
    "extValue = []\n",
    "outLiers(dataValue['Valor'], outValue, extValue)\n"
   ]
  },
  {
   "cell_type": "code",
   "execution_count": 8,
   "metadata": {},
   "outputs": [
    {
     "data": {
      "image/png": "[encoded data removed]",
      "text/plain": [
       "<matplotlib.figure.Figure at 0x2638e8c7710>"
      ]
     },
     "metadata": {},
     "output_type": "display_data"
    }
   ],
   "source": [
    "plt.boxplot(dataValue['Area'])\n",
    "plt.title('Area m²')\n",
    "plt.show()\n",
    "plt.clf()"
   ]
  },
  {
   "cell_type": "code",
   "execution_count": 9,
   "metadata": {},
   "outputs": [
    {
     "data": {
      "text/plain": [
       "count     43.000000\n",
       "mean     195.613721\n",
       "std       72.616871\n",
       "min      105.000000\n",
       "25%      155.500000\n",
       "50%      171.000000\n",
       "75%      213.685000\n",
       "max      392.400000\n",
       "Name: Area, dtype: float64"
      ]
     },
     "execution_count": 9,
     "metadata": {},
     "output_type": "execute_result"
    }
   ],
   "source": [
    "dataValue['Area'].describe()"
   ]
  },
  {
   "cell_type": "code",
   "execution_count": 10,
   "metadata": {},
   "outputs": [
    {
     "data": {
      "text/plain": [
       "([312.81999999999999, 304.35000000000002, 304.35000000000002, 370.0],\n",
       " [392.39999999999998, 392.39999999999998])"
      ]
     },
     "execution_count": 10,
     "metadata": {},
     "output_type": "execute_result"
    }
   ],
   "source": [
    "outArea = []\n",
    "extremeArea = []\n",
    "outLiers(dataValue['Area'], outArea, extremeArea)\n"
   ]
  },
  {
   "cell_type": "code",
   "execution_count": 11,
   "metadata": {},
   "outputs": [
    {
     "data": {
      "text/plain": [
       "([325669, 362400], [])"
      ]
     },
     "execution_count": 11,
     "metadata": {},
     "output_type": "execute_result"
    }
   ],
   "source": [
    "outValue = []\n",
    "extValue = []\n",
    "outLiers(dataValue['Valor'], outValue, extValue)"
   ]
  },
  {
   "cell_type": "code",
   "execution_count": 12,
   "metadata": {},
   "outputs": [],
   "source": [
    "#remove outliers and extremepoints\n",
    "dtValue = pd.Series(rmOut(dataValue['Valor'],outValue,extValue))"
   ]
  },
  {
   "cell_type": "code",
   "execution_count": 13,
   "metadata": {},
   "outputs": [],
   "source": [
    "#remove outliers and extremepoints\n",
    "dtArea =  pd.Series(rmOut(dataValue['Area'],outArea, extremeArea))"
   ]
  },
  {
   "cell_type": "code",
   "execution_count": 14,
   "metadata": {},
   "outputs": [
    {
     "data": {
      "text/plain": [
       "count        43.000000\n",
       "mean     144618.255814\n",
       "std       72084.680047\n",
       "min       50000.000000\n",
       "25%       95000.000000\n",
       "50%      120000.000000\n",
       "75%      182500.000000\n",
       "max      362400.000000\n",
       "dtype: float64"
      ]
     },
     "execution_count": 14,
     "metadata": {},
     "output_type": "execute_result"
    }
   ],
   "source": [
    "dtValue.describe()"
   ]
  },
  {
   "cell_type": "code",
   "execution_count": 15,
   "metadata": {},
   "outputs": [],
   "source": [
    "cluster = pd.DataFrame(pd.cut(dtValue, 6, labels=False))\n"
   ]
  },
  {
   "cell_type": "code",
   "execution_count": 16,
   "metadata": {},
   "outputs": [
    {
     "data": {
      "text/html": [
       "<div>\n",
       "<style>\n",
       "    .dataframe thead tr:only-child th {\n",
       "        text-align: right;\n",
       "    }\n",
       "\n",
       "    .dataframe thead th {\n",
       "        text-align: left;\n",
       "    }\n",
       "\n",
       "    .dataframe tbody tr th {\n",
       "        vertical-align: top;\n",
       "    }\n",
       "</style>\n",
       "<table border=\"1\" class=\"dataframe\">\n",
       "  <thead>\n",
       "    <tr style=\"text-align: right;\">\n",
       "      <th></th>\n",
       "      <th>Ordem</th>\n",
       "      <th>Valor</th>\n",
       "      <th>Area</th>\n",
       "      <th>IA</th>\n",
       "      <th>Andar</th>\n",
       "      <th>Suites</th>\n",
       "      <th>Vista</th>\n",
       "      <th>DistBM</th>\n",
       "      <th>Semruido</th>\n",
       "      <th>AV200m</th>\n",
       "    </tr>\n",
       "  </thead>\n",
       "  <tbody>\n",
       "    <tr>\n",
       "      <th>0</th>\n",
       "      <td>1</td>\n",
       "      <td>160000</td>\n",
       "      <td>167.81</td>\n",
       "      <td>1</td>\n",
       "      <td>5</td>\n",
       "      <td>100</td>\n",
       "      <td>100</td>\n",
       "      <td>294</td>\n",
       "      <td>100</td>\n",
       "      <td>1</td>\n",
       "    </tr>\n",
       "    <tr>\n",
       "      <th>1</th>\n",
       "      <td>2</td>\n",
       "      <td>67000</td>\n",
       "      <td>128.80</td>\n",
       "      <td>1</td>\n",
       "      <td>6</td>\n",
       "      <td>1</td>\n",
       "      <td>1</td>\n",
       "      <td>1505</td>\n",
       "      <td>100</td>\n",
       "      <td>1</td>\n",
       "    </tr>\n",
       "    <tr>\n",
       "      <th>2</th>\n",
       "      <td>3</td>\n",
       "      <td>190000</td>\n",
       "      <td>217.37</td>\n",
       "      <td>1</td>\n",
       "      <td>8</td>\n",
       "      <td>100</td>\n",
       "      <td>1</td>\n",
       "      <td>251</td>\n",
       "      <td>1</td>\n",
       "      <td>100</td>\n",
       "    </tr>\n",
       "    <tr>\n",
       "      <th>3</th>\n",
       "      <td>4</td>\n",
       "      <td>110000</td>\n",
       "      <td>180.00</td>\n",
       "      <td>12</td>\n",
       "      <td>4</td>\n",
       "      <td>100</td>\n",
       "      <td>1</td>\n",
       "      <td>245</td>\n",
       "      <td>1</td>\n",
       "      <td>1</td>\n",
       "    </tr>\n",
       "    <tr>\n",
       "      <th>4</th>\n",
       "      <td>5</td>\n",
       "      <td>70000</td>\n",
       "      <td>120.00</td>\n",
       "      <td>15</td>\n",
       "      <td>3</td>\n",
       "      <td>100</td>\n",
       "      <td>1</td>\n",
       "      <td>956</td>\n",
       "      <td>100</td>\n",
       "      <td>1</td>\n",
       "    </tr>\n",
       "  </tbody>\n",
       "</table>\n",
       "</div>"
      ],
      "text/plain": [
       "   Ordem   Valor    Area  IA  Andar  Suites  Vista  DistBM  Semruido  AV200m\n",
       "0      1  160000  167.81   1      5     100    100     294       100       1\n",
       "1      2   67000  128.80   1      6       1      1    1505       100       1\n",
       "2      3  190000  217.37   1      8     100      1     251         1     100\n",
       "3      4  110000  180.00  12      4     100      1     245         1       1\n",
       "4      5   70000  120.00  15      3     100      1     956       100       1"
      ]
     },
     "execution_count": 16,
     "metadata": {},
     "output_type": "execute_result"
    }
   ],
   "source": [
    "dataValue.head()"
   ]
  },
  {
   "cell_type": "code",
   "execution_count": 17,
   "metadata": {},
   "outputs": [],
   "source": [
    "faixaValor = pd.DataFrame(pd.concat([dtValue,\\\n",
    "                                     pd.Series(dataValue['Area']),\\\n",
    "                                     pd.Series(dataValue['IA']), \\\n",
    "                                     pd.Series(dataValue['Vista']), \\\n",
    "                                     pd.Series(dataValue['DistBM']),\n",
    "                                     pd.Series(dataValue['Semruido']), \\\n",
    "                                     pd.Series(dataValue['AV200m']), \\\n",
    "                                     cluster], axis=1)).dropna()\n",
    "faixaValor.columns = ['Property Value', 'Area','IA','Vista','DistBm','Semruido', 'AV200m','Cluster']"
   ]
  },
  {
   "cell_type": "code",
   "execution_count": 18,
   "metadata": {},
   "outputs": [
    {
     "data": {
      "text/html": [
       "<div>\n",
       "<style>\n",
       "    .dataframe thead tr:only-child th {\n",
       "        text-align: right;\n",
       "    }\n",
       "\n",
       "    .dataframe thead th {\n",
       "        text-align: left;\n",
       "    }\n",
       "\n",
       "    .dataframe tbody tr th {\n",
       "        vertical-align: top;\n",
       "    }\n",
       "</style>\n",
       "<table border=\"1\" class=\"dataframe\">\n",
       "  <thead>\n",
       "    <tr style=\"text-align: right;\">\n",
       "      <th></th>\n",
       "      <th>Property Value</th>\n",
       "      <th>Area</th>\n",
       "      <th>IA</th>\n",
       "      <th>Vista</th>\n",
       "      <th>DistBm</th>\n",
       "      <th>Semruido</th>\n",
       "      <th>AV200m</th>\n",
       "      <th>Cluster</th>\n",
       "    </tr>\n",
       "  </thead>\n",
       "  <tbody>\n",
       "    <tr>\n",
       "      <th>0</th>\n",
       "      <td>160000</td>\n",
       "      <td>167.81</td>\n",
       "      <td>1</td>\n",
       "      <td>100</td>\n",
       "      <td>294</td>\n",
       "      <td>100</td>\n",
       "      <td>1</td>\n",
       "      <td>2</td>\n",
       "    </tr>\n",
       "    <tr>\n",
       "      <th>1</th>\n",
       "      <td>67000</td>\n",
       "      <td>128.80</td>\n",
       "      <td>1</td>\n",
       "      <td>1</td>\n",
       "      <td>1505</td>\n",
       "      <td>100</td>\n",
       "      <td>1</td>\n",
       "      <td>0</td>\n",
       "    </tr>\n",
       "    <tr>\n",
       "      <th>2</th>\n",
       "      <td>190000</td>\n",
       "      <td>217.37</td>\n",
       "      <td>1</td>\n",
       "      <td>1</td>\n",
       "      <td>251</td>\n",
       "      <td>1</td>\n",
       "      <td>100</td>\n",
       "      <td>2</td>\n",
       "    </tr>\n",
       "    <tr>\n",
       "      <th>3</th>\n",
       "      <td>110000</td>\n",
       "      <td>180.00</td>\n",
       "      <td>12</td>\n",
       "      <td>1</td>\n",
       "      <td>245</td>\n",
       "      <td>1</td>\n",
       "      <td>1</td>\n",
       "      <td>1</td>\n",
       "    </tr>\n",
       "    <tr>\n",
       "      <th>4</th>\n",
       "      <td>70000</td>\n",
       "      <td>120.00</td>\n",
       "      <td>15</td>\n",
       "      <td>1</td>\n",
       "      <td>956</td>\n",
       "      <td>100</td>\n",
       "      <td>1</td>\n",
       "      <td>0</td>\n",
       "    </tr>\n",
       "  </tbody>\n",
       "</table>\n",
       "</div>"
      ],
      "text/plain": [
       "   Property Value    Area  IA  Vista  DistBm  Semruido  AV200m  Cluster\n",
       "0          160000  167.81   1    100     294       100       1        2\n",
       "1           67000  128.80   1      1    1505       100       1        0\n",
       "2          190000  217.37   1      1     251         1     100        2\n",
       "3          110000  180.00  12      1     245         1       1        1\n",
       "4           70000  120.00  15      1     956       100       1        0"
      ]
     },
     "execution_count": 18,
     "metadata": {},
     "output_type": "execute_result"
    }
   ],
   "source": [
    "faixaValor.head()"
   ]
  },
  {
   "cell_type": "markdown",
   "metadata": {},
   "source": [
    "## Scatter Plot for two variables\n",
    "\n",
    "Before and after of remove outliers"
   ]
  },
  {
   "cell_type": "code",
   "execution_count": 19,
   "metadata": {},
   "outputs": [
    {
     "data": {
      "image/png": "[encoded data removed]",
      "text/plain": [
       "<matplotlib.figure.Figure at 0x2639007cb38>"
      ]
     },
     "metadata": {},
     "output_type": "display_data"
    }
   ],
   "source": [
    "plt.scatter(dataValue['Valor'], dataValue['Area'], color=\"orange\")\n",
    "plt.scatter(faixaValor['Property Value'],faixaValor['Area'], color='green')\n",
    "plt.title('Property Value ~ Area')\n",
    "plt.show()"
   ]
  },
  {
   "cell_type": "code",
   "execution_count": null,
   "metadata": {},
   "outputs": [],
   "source": []
  },
  {
   "cell_type": "code",
   "execution_count": null,
   "metadata": {},
   "outputs": [],
   "source": []
  }
 ],
 "metadata": {
  "kernelspec": {
   "display_name": "Python 3",
   "language": "python",
   "name": "python3"
  },
  "language_info": {
   "codemirror_mode": {
    "name": "ipython",
    "version": 3
   },
   "file_extension": ".py",
   "mimetype": "text/x-python",
   "name": "python",
   "nbconvert_exporter": "python",
   "pygments_lexer": "ipython3",
   "version": "3.6.1"
  }
 },
 "nbformat": 4,
 "nbformat_minor": 2
}
